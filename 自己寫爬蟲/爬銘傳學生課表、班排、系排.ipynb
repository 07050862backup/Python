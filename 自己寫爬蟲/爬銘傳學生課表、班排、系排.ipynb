{
 "cells": [
  {
   "cell_type": "code",
   "execution_count": 5,
   "metadata": {},
   "outputs": [
    {
     "name": "stdout",
     "output_type": "stream",
     "text": [
      "請輸入你的學號：07050862\n"
     ]
    }
   ],
   "source": [
    "studentID = input('請輸入你的學號：')"
   ]
  },
  {
   "cell_type": "code",
   "execution_count": 6,
   "metadata": {},
   "outputs": [
    {
     "name": "stdout",
     "output_type": "stream",
     "text": [
      "姓名:  李柏賢\n",
      "就讀科系:  電腦與通訊工程學系                      \n"
     ]
    }
   ],
   "source": [
    "import requests\n",
    "import bs4\n",
    "headers = {\n",
    "'Host': 'eportfolio.mcu.edu.tw',\n",
    "'Connection': 'keep-alive',\n",
    "'Cache-Control': 'max-age=0',\n",
    "'Upgrade-Insecure-Requests': '1',\n",
    "'User-Agent': 'Mozilla/5.0 (Windows NT 10.0; Win64; x64) AppleWebKit/537.36 (KHTML, like Gecko) Chrome/90.0.4430.93 Safari/537.36',\n",
    "'Accept': 'text/html,application/xhtml+xml,application/xml;q=0.9,image/avif,image/webp,image/apng,*/*;q=0.8,application/signed-exchange;v=b3;q=0.9',\n",
    "'Referer': 'http://eportfolio.mcu.edu.tw/ePortfolio/Student/page01/index.asp',\n",
    "'Accept-Encoding': 'gzip, deflate',\n",
    "'Accept-Language': 'zh-TW,zh;q=0.9',\n",
    "'Cookie': 'login=0; Lng=C; std%5Fno='+studentID+'; gsha=改成自己的~; pg=1; ASPSESSIONIDQCSAQSAB=改成自己的'\n",
    "}\n",
    "\n",
    "res = requests.get(\"http://eportfolio.mcu.edu.tw/ePortfolio/Student/page00/index.asp?ch=0\", headers=headers)\n",
    "\n",
    "res.encoding = res.apparent_encoding \n",
    "\n",
    "html = res.text \n",
    "\n",
    "\n",
    "\n",
    "objSoup = bs4.BeautifulSoup(html, 'lxml')         #lxml是解析HTML文件方式\n",
    "show = objSoup.text.split('\\n')\n",
    "print(\"姓名: \"+show[33])\n",
    "print(\"就讀科系: \"+show[40])"
   ]
  },
  {
   "cell_type": "code",
   "execution_count": 7,
   "metadata": {},
   "outputs": [],
   "source": [
    "\n",
    "\n",
    "res = requests.get(\"http://eportfolio.mcu.edu.tw/ePortfolio/Student/page01/index.asp?ch=2\", headers=headers)\n",
    "\n",
    "res.encoding = res.apparent_encoding \n",
    "html = res.text \n",
    "#print(html)\n",
    "\n",
    "\n",
    "\n",
    "soup = bs4.BeautifulSoup(html, 'lxml')         #lxml是解析HTML文件方式\n",
    "#print(soup)\n",
    "\n",
    "\n",
    "\n",
    "\n",
    "\n"
   ]
  },
  {
   "cell_type": "code",
   "execution_count": 8,
   "metadata": {},
   "outputs": [],
   "source": [
    "file1 = open(show[33]+studentID+\".html\", 'w',encoding=\"UTF-8-sig\")\n",
    "\n",
    "file1.write(html)\n",
    "file1.close()"
   ]
  },
  {
   "cell_type": "code",
   "execution_count": 9,
   "metadata": {},
   "outputs": [
    {
     "name": "stdout",
     "output_type": "stream",
     "text": [
      "\r\n",
      "<html>\r\n",
      "<head>\r\n",
      "\t<title>Untitled</title>\r\n",
      "\t<meta http-equiv=\"Content-Type\" content=\"text/html; charset=big5\">\t\r\n",
      "\t<link href=\"AspCss1.css\" rel=\"stylesheet\" type=\"text/css\">\t\r\n",
      "</head>\r\n",
      "\r\n",
      "<body>\r\n",
      "\r\n",
      "<br />\r\n",
      "<font class=\"orange_bold\">單學期排名</font>\r\n",
      "<table width = \"98%\" class=\"table_style_small\" align=\"center\">\r\n",
      "\t\t<tr><th width=\"10%\">年級</th>\r\n",
      "\t    \t  <th colspan=\"3\">上學期</th><th colspan=\"3\">下學期</th>\r\n",
      "\t\t</tr>\r\n",
      "\t\t<tr>\r\n",
      "\t\t\t  <td rowspan=\"2\">&nbsp;</td>\r\n",
      "\t\t\t  <td rowspan=\"2\"><div align=\"center\"><strong>實得學分</strong></div></td>\r\n",
      "\t\t\t  <td><div align=\"center\"><strong>班排名</strong></div></td>\r\n",
      "\t\t\t  <td><div align=\"center\"><strong>系排名</strong></div></td>\r\n",
      "\t\t\t  <td rowspan=\"2\"><div align=\"center\"><strong>實得學分</strong></div></td>\r\n",
      "\t\t\t  <td><div align=\"center\"><strong>班排名</strong></div></td>\r\n",
      "\t\t\t  <td><div align=\"center\"><strong>系排名</strong></div></td>\r\n",
      "\t\t</tr>\r\n",
      "\t\t<tr><td><div align=\"center\"><strong>名次/人數</strong></div></td>\r\n",
      "\t\t<td><div align=\"center\"><strong>名次/人數</strong></div></td>\r\n",
      "\t\t<td><div align=\"center\"><strong>名次/人數</strong></div></td>\r\n",
      "\t\t<td><div align=\"center\"><strong>名次/人數</strong></div></td>\r\n",
      "\t\t</tr>\r\n",
      "\t\t\r\n",
      "\t\t<tr>\r\n",
      "\t\t\t<td>電通一乙  </td>\r\n",
      "\t\t\t<td><div align=\"right\">17</div></td>\r\n",
      "\t\t\t<td><div align=\"center\">21/48</div></td>\r\n",
      "\t\t\t<td><div align=\"center\">38/97</div></td>\r\n",
      "\t\t\t<td><div align=\"right\">18</div></td>\r\n",
      "\t\t\t<td><div align=\"center\">4/49</div></td>\r\n",
      "\t\t\t<td><div align=\"center\">11/96</div></td>\r\n",
      "\t\t</tr>\r\n",
      "\t\t\r\n",
      "\t\t<tr>\r\n",
      "\t\t\t<td>電通二乙  </td>\r\n",
      "\t\t\t<td><div align=\"right\">19</div></td>\r\n",
      "\t\t\t<td><div align=\"center\">5/48</div></td>\r\n",
      "\t\t\t<td><div align=\"center\">10/89</div></td>\r\n",
      "\t\t\t<td><div align=\"right\">21</div></td>\r\n",
      "\t\t\t<td><div align=\"center\">9/46</div></td>\r\n",
      "\t\t\t<td><div align=\"center\">17/83</div></td>\r\n",
      "\t\t</tr>\r\n",
      "\t\t\r\n",
      "\t\t<tr>\r\n",
      "\t\t\t<td>電通三乙  </td>\r\n",
      "\t\t\t<td><div align=\"right\">23</div></td>\r\n",
      "\t\t\t<td><div align=\"center\">4/44</div></td>\r\n",
      "\t\t\t<td><div align=\"center\">9/80</div></td>\r\n",
      "\t\t\t<td><div align=\"right\">0</div></td>\r\n",
      "\t\t\t<td><div align=\"center\">/</div></td>\r\n",
      "\t\t\t<td><div align=\"center\">/</div></td>\r\n",
      "\t\t</tr>\r\n",
      "\t\t\r\n",
      "\t\t<tr><td colspan=\"7\"><strong>目前累計實得學分：98</strong></td></tr>\r\n",
      "</table>\r\n",
      "\r\n",
      "\r\n",
      "<br />\r\n",
      "<font class=\"orange_bold\">累計排名</font>\r\n",
      "<table width = \"98%\" class=\"table_style_small\" align=\"center\">\r\n",
      "\t\t<tr><th width=\"10%\">年級</th>\r\n",
      "\t    \t  <th colspan=\"2\">上學期</th><th colspan=\"2\">下學期</th>\r\n",
      "\t\t</tr>\r\n",
      "\t\t<tr>\r\n",
      "\t\t\t  <td rowspan=\"2\">&nbsp;</td>\r\n",
      "\t\t\t  <td><div align=\"center\"><strong>累計班排名</strong></div></td>\r\n",
      "\t\t\t  <td><div align=\"center\"><strong>累計系排名</strong></div></td>\r\n",
      "\t\t\t  <td><div align=\"center\"><strong>累計班排名</strong></div></td>\r\n",
      "\t\t\t  <td><div align=\"center\"><strong>累計系排名</strong></div></td>\r\n",
      "\t\t</tr>\r\n",
      "\t\t<tr><td><div align=\"center\"><strong>名次/人數</strong></div></td>\r\n",
      "\t\t<td><div align=\"center\"><strong>名次/人數</strong></div></td>\r\n",
      "\t\t<td><div align=\"center\"><strong>名次/人數</strong></div></td>\r\n",
      "\t\t<td><div align=\"center\"><strong>名次/人數</strong></div></td>\r\n",
      "\t\t</tr>\r\n",
      "\t\t\r\n",
      "\t\t<tr>\r\n",
      "\t\t\t<td>電通一乙  </td>\r\n",
      "\t\t\t<td><div align=\"center\">21/48</div></td>\r\n",
      "\t\t\t<td><div align=\"center\">38/97</div></td>\r\n",
      "\t\t\t<td><div align=\"center\">6/49</div></td>\r\n",
      "\t\t\t<td><div align=\"center\">15/96</div></td>\r\n",
      "\t\t</tr>\r\n",
      "\t\t\r\n",
      "\t\t<tr>\r\n",
      "\t\t\t<td>電通二乙  </td>\r\n",
      "\t\t\t<td><div align=\"center\">4/48</div></td>\r\n",
      "\t\t\t<td><div align=\"center\">11/89</div></td>\r\n",
      "\t\t\t<td><div align=\"center\">5/46</div></td>\r\n",
      "\t\t\t<td><div align=\"center\">12/83</div></td>\r\n",
      "\t\t</tr>\r\n",
      "\t\t\r\n",
      "\t\t<tr>\r\n",
      "\t\t\t<td>電通三乙  </td>\r\n",
      "\t\t\t<td><div align=\"center\">5/45</div></td>\r\n",
      "\t\t\t<td><div align=\"center\">11/81</div></td>\r\n",
      "\t\t\t<td><div align=\"center\">/</div></td>\r\n",
      "\t\t\t<td><div align=\"center\">/</div></td>\r\n",
      "\t\t</tr>\r\n",
      "\t\t\r\n",
      "</table>\r\n",
      "\r\n",
      "\r\n",
      "</body>\r\n",
      "</html>\r\n",
      "\r\n",
      "\n"
     ]
    }
   ],
   "source": [
    "\n",
    "\n",
    "\n",
    "res = requests.get(\"http://eportfolio.mcu.edu.tw/ePortfolio/Student/Common/e062.asp\", headers=headers)\n",
    "\n",
    "res.encoding = res.apparent_encoding \n",
    "html = res.text \n",
    "print(html)\n",
    "\n",
    "\n",
    "\n",
    "soup = bs4.BeautifulSoup(html, 'lxml')         #lxml是解析HTML文件方式\n",
    "#print(soup)"
   ]
  },
  {
   "cell_type": "code",
   "execution_count": 10,
   "metadata": {},
   "outputs": [],
   "source": [
    "file1 = open(show[33]+studentID+\".html\", 'a',encoding=\"UTF-8-sig\")\n",
    "\n",
    "file1.write(html)\n",
    "file1.close()"
   ]
  },
  {
   "cell_type": "code",
   "execution_count": 11,
   "metadata": {},
   "outputs": [
    {
     "data": {
      "text/plain": [
       "True"
      ]
     },
     "execution_count": 11,
     "metadata": {},
     "output_type": "execute_result"
    }
   ],
   "source": [
    "import webbrowser\n",
    "webbrowser.open('https://www.mcu.edu.tw/student/校園IC卡照片檔/student/'+studentID+'.jpg')"
   ]
  }
 ],
 "metadata": {
  "kernelspec": {
   "display_name": "Python 3",
   "language": "python",
   "name": "python3"
  },
  "language_info": {
   "codemirror_mode": {
    "name": "ipython",
    "version": 3
   },
   "file_extension": ".py",
   "mimetype": "text/x-python",
   "name": "python",
   "nbconvert_exporter": "python",
   "pygments_lexer": "ipython3",
   "version": "3.8.3"
  }
 },
 "nbformat": 4,
 "nbformat_minor": 4
}
