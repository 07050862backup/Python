{
 "cells": [
  {
   "cell_type": "markdown",
   "metadata": {},
   "source": [
    "# Python 程式語言 - 期中考試題\n"
   ]
  },
  {
   "cell_type": "markdown",
   "metadata": {},
   "source": [
    "## 一、倍數判斷\n",
    "\n",
    "請使用選擇敘述撰寫一程式，讓使用者輸入一個正整數，然後判斷它是3或5的倍數，\n",
    "若此數值同時為3與5的倍數，顯示【x is a multiple of 3 and 5.】;\n",
    "如此數值皆不屬於3或5的倍數，顯示【 x is not a multiple of 3 or 5.】，將使用者輸入的數值代入 x。"
   ]
  },
  {
   "cell_type": "code",
   "execution_count": 8,
   "metadata": {},
   "outputs": [
    {
     "name": "stdout",
     "output_type": "stream",
     "text": [
      "輸入一個正整數:15\n",
      "15 is a multiple of 3 and 5.\n"
     ]
    }
   ],
   "source": [
    "n = int(input(\"輸入一個正整數:\"))\n",
    "\n",
    "if n%3==0 and n%5==0: \n",
    "    print(\"%d is a multiple of 3 and 5.\" %n)\n",
    "else:\n",
    "    print(\"%d is not a multiple of 3 or 5.\" %n)"
   ]
  },
  {
   "cell_type": "markdown",
   "metadata": {},
   "source": [
    "## 二、迴圈偶數連加"
   ]
  },
  {
   "cell_type": "markdown",
   "metadata": {},
   "source": [
    "請使用迴圈敘述撰寫一程式，讓使用者輸入兩個正整數 a、b(a < b)， 利用迴圈計算從 a 開始的偶數連加到 b 的總和。\n",
    "例如:輸入 a=1、 b=100，則輸出結果為 2550(2 + 4 + ... + 100 = 2550)。"
   ]
  },
  {
   "cell_type": "code",
   "execution_count": 13,
   "metadata": {},
   "outputs": [
    {
     "name": "stdout",
     "output_type": "stream",
     "text": [
      "輸入正整數 a :1\n",
      "輸入正整數 b :100\n",
      "輸出結果為: 2550\n"
     ]
    }
   ],
   "source": [
    "a = int(input(\"輸入正整數 a :\"))\n",
    "b = int(input(\"輸入正整數 b :\"))\n",
    "count = 0\n",
    "if a % 2 == 1:\n",
    "    a=a+1\n",
    "while a<b+1:\n",
    "    count=a+count\n",
    "    a=a+2\n",
    "print(\"輸出結果為: %d\"%count)"
   ]
  },
  {
   "cell_type": "markdown",
   "metadata": {},
   "source": [
    "## 三、不定數迴圈-最小值"
   ]
  },
  {
   "cell_type": "markdown",
   "metadata": {},
   "source": [
    "請撰寫一程式，讓使用者輸入數字，輸入的動作直到輸入值為 9999才結束，然後找出其最小值，並輸出最小值。"
   ]
  },
  {
   "cell_type": "code",
   "execution_count": 30,
   "metadata": {},
   "outputs": [
    {
     "name": "stdout",
     "output_type": "stream",
     "text": [
      "請輸入數字: -9999\n",
      "請輸入數字: 1\n",
      "請輸入數字: 2\n",
      "請輸入數字: 3\n",
      "請輸入數字: 9\n",
      "請輸入數字: 9999\n",
      "-9999\n"
     ]
    }
   ],
   "source": [
    "num = int(input(\"請輸入數字: \"))\n",
    "minnum = num\n",
    "while True: \n",
    "    num = int(input(\"請輸入數字: \"))\n",
    "    if num == 9999:\n",
    "        break\n",
    "    elif num < minnum:\n",
    "        minnum = num\n",
    "print(minnum)"
   ]
  },
  {
   "cell_type": "markdown",
   "metadata": {},
   "source": [
    "## 四、乘積"
   ]
  },
  {
   "cell_type": "markdown",
   "metadata": {},
   "source": [
    "請撰寫一程式，將使用者輸入的兩個數字作為參數傳遞給一個名為 compute(x, y)的函式，此函式將回傳 x 和 y 的乘積。"
   ]
  },
  {
   "cell_type": "code",
   "execution_count": 24,
   "metadata": {},
   "outputs": [
    {
     "name": "stdout",
     "output_type": "stream",
     "text": [
      "輸入 x :2\n",
      "輸入 y :6\n",
      "12\n"
     ]
    }
   ],
   "source": [
    "def compute(x, y):\n",
    "    return x*y\n",
    "\n",
    "\n",
    "\n",
    "\n",
    "x = int(input(\"輸入 x :\"))\n",
    "y = int(input(\"輸入 y :\"))\n",
    "ans = compute(x, y)\n",
    "print(ans)"
   ]
  },
  {
   "cell_type": "markdown",
   "metadata": {},
   "source": [
    "## 五、撲克牌總和\n",
    "\n",
    "請撰寫一程式，讓使用者輸入 52 張牌中的 5 張，計算並輸出其總和。\n",
    "提示:J、Q、K 以及 A 分別代表 11、12、13 以及 1。"
   ]
  },
  {
   "cell_type": "code",
   "execution_count": 5,
   "metadata": {},
   "outputs": [
    {
     "name": "stdout",
     "output_type": "stream",
     "text": [
      "輸入第 1 張牌:1\n",
      "輸入第 2 張牌:J\n",
      "輸入第 3 張牌:5\n",
      "輸入第 4 張牌:1\n",
      "輸入第 5 張牌:2\n",
      "20\n"
     ]
    }
   ],
   "source": [
    "num = []\n",
    "\n",
    "for i in range (5):\n",
    "    x = str(input(\"輸入第 %d 張牌:\" %(i+1)))\n",
    "    if x=='J':\n",
    "        n = 11\n",
    "    elif x=='Q':\n",
    "        n = 12\n",
    "    elif x=='K':\n",
    "        n = 13\n",
    "    elif x=='A':\n",
    "        n = 1\n",
    "    else:\n",
    "        n = int(x)\n",
    "    num.append(n)\n",
    "\n",
    "print(sum(num))"
   ]
  }
 ],
 "metadata": {
  "kernelspec": {
   "display_name": "Python 3",
   "language": "python",
   "name": "python3"
  },
  "language_info": {
   "codemirror_mode": {
    "name": "ipython",
    "version": 3
   },
   "file_extension": ".py",
   "mimetype": "text/x-python",
   "name": "python",
   "nbconvert_exporter": "python",
   "pygments_lexer": "ipython3",
   "version": "3.7.4"
  }
 },
 "nbformat": 4,
 "nbformat_minor": 4
}
