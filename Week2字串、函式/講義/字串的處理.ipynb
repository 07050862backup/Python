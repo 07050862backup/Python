{
 "cells": [
  {
   "cell_type": "markdown",
   "metadata": {},
   "source": [
    "在Python中的字串(string)是以單引號（'）或雙引號（\"）包起來的文字資料，它是由一序列的字元的構成。"
   ]
  },
  {
   "cell_type": "markdown",
   "metadata": {},
   "source": [
    "## 字串的運算"
   ]
  },
  {
   "cell_type": "markdown",
   "metadata": {},
   "source": [
    "### 建立字串"
   ]
  },
  {
   "cell_type": "markdown",
   "metadata": {},
   "source": [
    "要創建一個字串，只需要將字元符號以單引號（'）或雙引號（\"）括起來即可："
   ]
  },
  {
   "cell_type": "code",
   "execution_count": 1,
   "metadata": {},
   "outputs": [],
   "source": [
    "str1 = 'Hello world'\n",
    "str2 = \"Peter!\""
   ]
  },
  {
   "cell_type": "markdown",
   "metadata": {},
   "source": [
    "在Python中，字串是不可變的物件；這意味著當我們要改變某個字串變數時，由於其所指向的內容不能被改變，系統會把原來的內容複製一份後再改變，這會開闢一個新的記憶體位址，變數再指向這個新的位址。例如："
   ]
  },
  {
   "cell_type": "code",
   "execution_count": 2,
   "metadata": {},
   "outputs": [
    {
     "name": "stdout",
     "output_type": "stream",
     "text": [
      "1990077648496\n",
      "1990077801264\n"
     ]
    }
   ],
   "source": [
    "a = 'Hello world'\n",
    "print(id(a))\n",
    "a = a + '!'\n",
    "print(id(a))"
   ]
  },
  {
   "cell_type": "markdown",
   "metadata": {},
   "source": [
    "### 利用索引運算子取得字串的部份內容"
   ]
  },
  {
   "cell_type": "markdown",
   "metadata": {},
   "source": [
    "字串是由字元序列所組成，我們可以利用索引運算子(即中括號[])來取得字串裡的單一字元或是一段範圍的字元，索引從0開始。例如："
   ]
  },
  {
   "cell_type": "code",
   "execution_count": 3,
   "metadata": {},
   "outputs": [
    {
     "name": "stdout",
     "output_type": "stream",
     "text": [
      "H\n",
      "e\n"
     ]
    }
   ],
   "source": [
    "str1 = 'Hello world'\n",
    "str2 = \"Peter!\"\n",
    "print(str1[0]) #取得str1裡第1個元素\n",
    "print(str2[1]) #取得str2裡第2個元素"
   ]
  },
  {
   "cell_type": "markdown",
   "metadata": {},
   "source": [
    "若我們欲取得字串裡一段範圍的字元，如第1個到第5個字元，則可執行如下："
   ]
  },
  {
   "cell_type": "code",
   "execution_count": 4,
   "metadata": {},
   "outputs": [
    {
     "data": {
      "text/plain": [
       "'Hello'"
      ]
     },
     "execution_count": 4,
     "metadata": {},
     "output_type": "execute_result"
    }
   ],
   "source": [
    "str1 = 'Hello world'\n",
    "str2 = \"Peter!\"\n",
    "str1[0:5] #取得str1裡第1到第5個元素"
   ]
  },
  {
   "cell_type": "markdown",
   "metadata": {},
   "source": [
    "若在指定索引範圍時省略第1個索引，表示預設值為0；若在指定索引範圍時省略第2個索引，表示預設值為字串的長度，例如："
   ]
  },
  {
   "cell_type": "code",
   "execution_count": 5,
   "metadata": {},
   "outputs": [
    {
     "name": "stdout",
     "output_type": "stream",
     "text": [
      "Hell\n",
      "ter!\n"
     ]
    }
   ],
   "source": [
    "print(str1[:4]) #列印出str1裡第1到第4個元素\n",
    "print(str2[2:]) #列印出str2裡第3到最後1個元素"
   ]
  },
  {
   "cell_type": "markdown",
   "metadata": {},
   "source": [
    "Python中的索引，不僅可指定正值，還可以指定負值，也就是從字串最右邊開始算索引。索引-1就是倒數第一個元素，索引-2就是倒數第二個元素。此外，還有一些其他的索引表示法，例如str[::-1]表示逆序輸出；str[2:5:2]表示索引位置為2到索引位置5的字元，且步距為2，也就是說，輸出的索引位置只有str[2]和str[4]兩個字元："
   ]
  },
  {
   "cell_type": "code",
   "execution_count": 7,
   "metadata": {},
   "outputs": [
    {
     "name": "stdout",
     "output_type": "stream",
     "text": [
      "str1= cs\n",
      "str2= scisyhp\n",
      "str3= yi\n"
     ]
    }
   ],
   "source": [
    "str = 'physics'\n",
    "str1 = str[-2:] #取str裡倒數第2到最後1個元素, str1 = 'cs'\n",
    "str2 = str[::-1] #將str逆序輸出, str2 = 'scisyhp'\n",
    "str3 = str[2:5:2] #取str裡索引位置為2到索引位置5的字元，且步距為2。str3 = 'yi'\n",
    "\n",
    "print('str1=', str1)\n",
    "print('str2=', str2)\n",
    "print('str3=', str3)"
   ]
  },
  {
   "cell_type": "markdown",
   "metadata": {},
   "source": [
    "### 利用連接運算子來連接兩個字串"
   ]
  },
  {
   "cell_type": "markdown",
   "metadata": {},
   "source": [
    "利用+運算子可以連接兩個字串："
   ]
  },
  {
   "cell_type": "code",
   "execution_count": 8,
   "metadata": {},
   "outputs": [
    {
     "name": "stdout",
     "output_type": "stream",
     "text": [
      "physicschemistry\n"
     ]
    }
   ],
   "source": [
    "str1 = 'physics'\n",
    "str2 = 'chemistry'\n",
    "print(str1 + str2)"
   ]
  },
  {
   "cell_type": "code",
   "execution_count": 9,
   "metadata": {},
   "outputs": [
    {
     "name": "stdout",
     "output_type": "stream",
     "text": [
      "physocial\n",
      "trsocial\n"
     ]
    }
   ],
   "source": [
    "print(str1[:3] + 'social') #str1[:3] -> 'phy'\n",
    "print(str2[-3:-1] + 'social') #str2[-3:-1] -> 'tr'"
   ]
  },
  {
   "cell_type": "markdown",
   "metadata": {},
   "source": [
    "在Python中，字串是不可變動的，所以使用連接運算子+的運算結果會產生新的字串。另外，我們也不能以連接運算子來連接字串與數字，得先用str()將數值轉為字串才可以進行字串的連接："
   ]
  },
  {
   "cell_type": "code",
   "execution_count": null,
   "metadata": {},
   "outputs": [],
   "source": [
    "print('social' + str(2018))"
   ]
  },
  {
   "attachments": {
    "image.png": {
     "image/png": "[encoded data removed]"
    }
   },
   "cell_type": "markdown",
   "metadata": {},
   "source": [
    "![image.png](attachment:image.png)"
   ]
  },
  {
   "cell_type": "markdown",
   "metadata": {},
   "source": [
    "數值不能直接與字串進行+運算，得先進行型別轉換"
   ]
  },
  {
   "cell_type": "markdown",
   "metadata": {},
   "source": [
    "### 計算字串的長度"
   ]
  },
  {
   "cell_type": "markdown",
   "metadata": {},
   "source": [
    "如果要計算字串的長度，直接使用len()函式就可以達到目的："
   ]
  },
  {
   "cell_type": "code",
   "execution_count": 16,
   "metadata": {},
   "outputs": [
    {
     "data": {
      "text/plain": [
       "7"
      ]
     },
     "execution_count": 16,
     "metadata": {},
     "output_type": "execute_result"
    }
   ],
   "source": [
    "str = 'physics'\n",
    "len(str)"
   ]
  },
  {
   "cell_type": "markdown",
   "metadata": {},
   "source": [
    "我們可以給合字串長度的計算以及索引的概念，產生迴圈計算時所需要代入的變數。以下面程式的寫法，其輸出應為physics："
   ]
  },
  {
   "cell_type": "code",
   "execution_count": 18,
   "metadata": {},
   "outputs": [
    {
     "name": "stdout",
     "output_type": "stream",
     "text": [
      "physics"
     ]
    }
   ],
   "source": [
    "str = 'physics'\n",
    "for i in range(len(str)):\n",
    "    print(str[i], end='')\n",
    "#輸出為physics"
   ]
  },
  {
   "cell_type": "markdown",
   "metadata": {},
   "source": [
    "但若是range()裡的參數是從len(str)-1，以-1的步距持續遞減到0的話，則輸出的結果便會變成scisyhp："
   ]
  },
  {
   "cell_type": "code",
   "execution_count": 19,
   "metadata": {},
   "outputs": [
    {
     "name": "stdout",
     "output_type": "stream",
     "text": [
      "scisyhp"
     ]
    }
   ],
   "source": [
    "str = 'physics'\n",
    "for i in range(len(str)-1, -1, -1):\n",
    "#range(start, end, step)在end結束，但不包含end\n",
    "    print(str[i], end ='')\n",
    "#輸出為scisyhp"
   ]
  },
  {
   "cell_type": "markdown",
   "metadata": {},
   "source": [
    "### 重覆運算子"
   ]
  },
  {
   "cell_type": "markdown",
   "metadata": {},
   "source": [
    "利用*運算子可以重覆字串的內容，例如利用str * 3便可以將str的內容重覆三次："
   ]
  },
  {
   "cell_type": "code",
   "execution_count": 20,
   "metadata": {},
   "outputs": [
    {
     "data": {
      "text/plain": [
       "'physicsphysicsphysics'"
      ]
     },
     "execution_count": 20,
     "metadata": {},
     "output_type": "execute_result"
    }
   ],
   "source": [
    "str = 'physics'\n",
    "str * 3"
   ]
  },
  {
   "cell_type": "markdown",
   "metadata": {},
   "source": [
    "### 比較運算子與in、not in運算子"
   ]
  },
  {
   "cell_type": "markdown",
   "metadata": {},
   "source": [
    "利用“==”、“!=”等比較運算子，便可以用來比較兩個字串的內容是否相等："
   ]
  },
  {
   "cell_type": "code",
   "execution_count": 21,
   "metadata": {},
   "outputs": [
    {
     "name": "stdout",
     "output_type": "stream",
     "text": [
      "True\n",
      "False\n",
      "True\n"
     ]
    }
   ],
   "source": [
    "str1 = 'physics'\n",
    "str2 = 'chemistry'\n",
    "str3 = 'physics'\n",
    "print(str1 == str3) #結果為真\n",
    "print(str1 != str3) #結果為假\n",
    "print(str1 != str2) #結果為真"
   ]
  },
  {
   "cell_type": "markdown",
   "metadata": {},
   "source": [
    "利用in運算子，則是可以檢查某個元素是否存在於字串中："
   ]
  },
  {
   "cell_type": "code",
   "execution_count": 22,
   "metadata": {},
   "outputs": [
    {
     "name": "stdout",
     "output_type": "stream",
     "text": [
      "True\n",
      "False\n",
      "True\n",
      "True\n"
     ]
    }
   ],
   "source": [
    "str1 = 'physics'\n",
    "str2 = 'chemistry'\n",
    "print('y' in str1) #結果為真\n",
    "print('o' in str1) #結果為假\n",
    "print('em' in str2) #結果為真\n",
    "print('si' not in str2) #結果為真"
   ]
  },
  {
   "cell_type": "markdown",
   "metadata": {},
   "source": [
    "## 與字串有關的方法與內建函式"
   ]
  },
  {
   "cell_type": "markdown",
   "metadata": {},
   "source": [
    "### 字串的大小寫與內容置換"
   ]
  },
  {
   "cell_type": "markdown",
   "metadata": {},
   "source": [
    "Python提供了許多內建的字串處理函式，我們可以用以修改字串的內容。關於大小寫互換的處理函式如下："
   ]
  },
  {
   "cell_type": "markdown",
   "metadata": {},
   "source": [
    "+ str.upper(): 將字串str的字元全部改成大寫\n",
    "+ str.lower()：將字串str的字元全部改成小寫\n",
    "+ str.swapcase()：將字串str的字元大小寫互換"
   ]
  },
  {
   "cell_type": "markdown",
   "metadata": {},
   "source": [
    "置換字串裡的內容："
   ]
  },
  {
   "cell_type": "markdown",
   "metadata": {},
   "source": [
    "+ str.replace('old','new')：將字串中的'old'置換為'new'"
   ]
  },
  {
   "cell_type": "markdown",
   "metadata": {},
   "source": [
    "去掉字串首尾的空白字元："
   ]
  },
  {
   "cell_type": "markdown",
   "metadata": {},
   "source": [
    "+ str.strip()：去掉字串首尾的不可見(空格)字元\n",
    "+ str.lstrip()：去掉字串左側的不可見(空格)字元\n",
    "+ str.rstrip()：去掉字串右側的不可見(空格)字元"
   ]
  },
  {
   "cell_type": "markdown",
   "metadata": {},
   "source": [
    "下面為字串之大小寫互換與置換字串內容的例子："
   ]
  },
  {
   "cell_type": "code",
   "execution_count": 24,
   "metadata": {},
   "outputs": [
    {
     "name": "stdout",
     "output_type": "stream",
     "text": [
      "HELLO\n",
      "hello\n",
      "hebxx\n"
     ]
    }
   ],
   "source": [
    "string = 'hello'\n",
    "str1 = string.upper() #將字串string轉成大寫\n",
    "str2 = str1.lower() #將字串str1轉成小寫\n",
    "str3 = string.replace('llo', 'bxx') #將llo替換為bxx\n",
    "\n",
    "print(str1)\n",
    "print(str2)\n",
    "print(str3)"
   ]
  },
  {
   "cell_type": "markdown",
   "metadata": {},
   "source": [
    "接下來，我們介紹如何利用strip()去掉字串首尾之空白字元："
   ]
  },
  {
   "cell_type": "code",
   "execution_count": 32,
   "metadata": {},
   "outputs": [],
   "source": [
    "str = '  physics  '\n",
    "str1 = str.strip() #去掉字串首尾不可見字元\n",
    "str2 = str.lstrip() #去掉字串左側的不可見字元\n",
    "str3 = str.rstrip() #去掉字串右側的不可見字元"
   ]
  },
  {
   "cell_type": "code",
   "execution_count": 33,
   "metadata": {},
   "outputs": [
    {
     "data": {
      "text/plain": [
       "'  physics  '"
      ]
     },
     "execution_count": 33,
     "metadata": {},
     "output_type": "execute_result"
    }
   ],
   "source": [
    "str"
   ]
  },
  {
   "cell_type": "code",
   "execution_count": 34,
   "metadata": {},
   "outputs": [
    {
     "data": {
      "text/plain": [
       "'physics'"
      ]
     },
     "execution_count": 34,
     "metadata": {},
     "output_type": "execute_result"
    }
   ],
   "source": [
    "str1"
   ]
  },
  {
   "cell_type": "code",
   "execution_count": 35,
   "metadata": {},
   "outputs": [
    {
     "data": {
      "text/plain": [
       "'physics  '"
      ]
     },
     "execution_count": 35,
     "metadata": {},
     "output_type": "execute_result"
    }
   ],
   "source": [
    "str2"
   ]
  },
  {
   "cell_type": "code",
   "execution_count": 36,
   "metadata": {},
   "outputs": [
    {
     "data": {
      "text/plain": [
       "'  physics'"
      ]
     },
     "execution_count": 36,
     "metadata": {},
     "output_type": "execute_result"
    }
   ],
   "source": [
    "str3"
   ]
  },
  {
   "cell_type": "markdown",
   "metadata": {},
   "source": [
    "### 字串內容的搜尋與切割"
   ]
  },
  {
   "cell_type": "markdown",
   "metadata": {},
   "source": [
    "在Py此外，Python提供了在字串中搜尋特定子字串s之索引位置的功能，如果字串中包含該子字串的話，傳回該子字串起始的索引值，若不包含該子字串則回傳-1。另外，也有利用s進行字串切割的功能：thon中，字串是不可變動的，所以使用連接運算子+的運算結果會產生新的字串。另外，我們也不能以連接運算子來連接字串與數字，得先用str()將數值轉為字串才可以進行字串的連接："
   ]
  },
  {
   "cell_type": "markdown",
   "metadata": {},
   "source": [
    "+ str.find(s): 在str字串中搜尋參數s的索引位置\n",
    "+ str.split(s): 以參數 s 進行字串的切割\n",
    "+ str.rsplit(s): 與str.split(s)功能類似，只不過是從符號串最後面開始分割"
   ]
  },
  {
   "cell_type": "code",
   "execution_count": 37,
   "metadata": {},
   "outputs": [
    {
     "name": "stdout",
     "output_type": "stream",
     "text": [
      "2\n",
      "6\n",
      "['Hello ', 'orld!']\n",
      "['Hel', ' world!']\n"
     ]
    }
   ],
   "source": [
    "str ='Hello world!'\n",
    "print(str.find('llo'))\n",
    "print(str.find('w'))\n",
    "print(str.split('w'))\n",
    "print(str.split('lo'))"
   ]
  },
  {
   "cell_type": "markdown",
   "metadata": {},
   "source": [
    "如果在字串中，參數s出現的次數很多，我們可以利用str.split(s, num)或str.rsplit(s, num)的num來指定分割次數，要留意的是兩者功能雖然類似，但一個是前面的符號來切割，另一個則是從後面開始切割："
   ]
  },
  {
   "cell_type": "code",
   "execution_count": 38,
   "metadata": {},
   "outputs": [
    {
     "name": "stdout",
     "output_type": "stream",
     "text": [
      "['He', 'lo world!']\n",
      "['Hello wor', 'd!']\n"
     ]
    }
   ],
   "source": [
    "str ='Hello world!'\n",
    "print(str.split('l',1))\n",
    "print(str.rsplit('l',1))"
   ]
  },
  {
   "cell_type": "markdown",
   "metadata": {},
   "source": [
    "我們還可以再加入一個參數，以選擇切割出來的第n個子字串，格式如下："
   ]
  },
  {
   "cell_type": "markdown",
   "metadata": {},
   "source": [
    "+ str.split(s, num)[n]: 以參數s進行字串的切割，選取第n個子字串\n",
    "+ str.rsplit(s, num)[n]: 以參數s從最後面開始字串分割，選取第n個子字串"
   ]
  },
  {
   "cell_type": "code",
   "execution_count": 40,
   "metadata": {},
   "outputs": [
    {
     "name": "stdout",
     "output_type": "stream",
     "text": [
      "['https:', '', 'www.ite.mcu.edu.tw', 'python-exercises', 'string']\n",
      "['https://www.ite.mcu.edu.tw/python', 'exercises/string']\n",
      "https://www.ite.mcu.edu.tw/python-exercises\n",
      "string\n",
      "https:\n",
      "/www.ite.mcu.edu.tw/python-exercises/string\n"
     ]
    }
   ],
   "source": [
    "str1 = 'https://www.ite.mcu.edu.tw/python-exercises/string'\n",
    "print(str1.rsplit('/')) #指定以'/'進行分割\n",
    "print(str1.split('-')) #指定以'-'進行分割\n",
    "print(str1.rsplit('/', 1)[0]) #指定以'/'從後面進行分割，只分割1次，並且選取第0個子字串\n",
    "print(str1.rsplit('/', 1)[1]) #指定以'/'從後面進行分割，只分割1次，並且選取第1個子字串\n",
    "print(str1.split('/', 1)[0]) #指定以'/'從前面進行分割，只分割1次，並且選取第0個子字串\n",
    "print(str1.split('/', 1)[1]) #指定以'/'從前面進行分割，只分割1次，並且選取第1個子字串"
   ]
  },
  {
   "cell_type": "markdown",
   "metadata": {},
   "source": [
    "## 字串的格式化"
   ]
  },
  {
   "cell_type": "markdown",
   "metadata": {},
   "source": [
    "Python也提供字串的格式化功能。其所使用的%d、%f、%s等格式化符號與C語言類似，其中%s是格式化字串，%d是格式化整數，%f是格式化浮點數。下例是將字串和數值插入到有字串格式符號%s、%d位置的寫法，後面再使用%接上一個tuple(序對)，裡頭放了要插入的內容："
   ]
  },
  {
   "cell_type": "code",
   "execution_count": 42,
   "metadata": {},
   "outputs": [
    {
     "name": "stdout",
     "output_type": "stream",
     "text": [
      "My name is Peter and my age is 22 !\n",
      "87 99.10 Peter\n"
     ]
    }
   ],
   "source": [
    "print(\"My name is %s and my age is %d !\" % ('Peter', 22) )\n",
    "print('%d %.2f %s' % (87, 99.1, 'Peter'))"
   ]
  },
  {
   "cell_type": "markdown",
   "metadata": {},
   "source": [
    "%.2f指定了輸出浮點數的精度為小數點以下兩位數；我們也可以指定輸出時要預留的字元寬度，例如%8.2f就表示要預留8個字元的寬度，且精度為小數點以下2位："
   ]
  },
  {
   "cell_type": "code",
   "execution_count": 43,
   "metadata": {},
   "outputs": [
    {
     "data": {
      "text/plain": [
       "'Temperature value is    36.13'"
      ]
     },
     "execution_count": 43,
     "metadata": {},
     "output_type": "execute_result"
    }
   ],
   "source": [
    "'Temperature value is %8.2f' %36.1252"
   ]
  },
  {
   "cell_type": "markdown",
   "metadata": {},
   "source": [
    "在Python3中導入了.format()的格式化字串方法，使用者可以根據位置、名稱（或兩者混合）來進行字串格式化。{} 的位置會被後方 format 括號裡所列的參數所取代；我們可以用數字或名稱來指定位置，也可以按預設的方式依序輸出參數的內容："
   ]
  },
  {
   "cell_type": "code",
   "execution_count": 45,
   "metadata": {},
   "outputs": [
    {
     "name": "stdout",
     "output_type": "stream",
     "text": [
      "A B C\n",
      "C B A\n",
      "C A B\n"
     ]
    }
   ],
   "source": [
    "print(\"{} {} {}\".format(\"A\", \"B\", \"C\"))\n",
    "#不指定位置，依序輸出。輸出結果為 A B C\n",
    "\n",
    "print(\"{2} {1} {0}\".format(\"A\", \"B\", \"C\"))\n",
    "# 以數字指定位置。輸出為C B A\n",
    "\n",
    "print(\"{c} {a} {b}\".format(a = \"A\", b = \"B\", c = \"C\"))\n",
    "#用名稱指定位置。輸出為 C A B"
   ]
  },
  {
   "cell_type": "code",
   "execution_count": 47,
   "metadata": {},
   "outputs": [
    {
     "data": {
      "text/plain": [
       "'Peter and Jane!'"
      ]
     },
     "execution_count": 47,
     "metadata": {},
     "output_type": "execute_result"
    }
   ],
   "source": [
    "'{0} and {1}!'.format('Peter', 'Jane')"
   ]
  },
  {
   "cell_type": "code",
   "execution_count": 48,
   "metadata": {},
   "outputs": [
    {
     "data": {
      "text/plain": [
       "'Peter and Jane and Mary!'"
      ]
     },
     "execution_count": 48,
     "metadata": {},
     "output_type": "execute_result"
    }
   ],
   "source": [
    "'{} and {} and {}!'.format('Peter', 'Jane', 'Mary')"
   ]
  },
  {
   "cell_type": "code",
   "execution_count": 49,
   "metadata": {},
   "outputs": [
    {
     "data": {
      "text/plain": [
       "'Mary and Peter and Jane!'"
      ]
     },
     "execution_count": 49,
     "metadata": {},
     "output_type": "execute_result"
    }
   ],
   "source": [
    "'{2} and {0} and {1}!'.format('Peter', 'Jane', 'Mary')"
   ]
  },
  {
   "cell_type": "code",
   "execution_count": 50,
   "metadata": {},
   "outputs": [
    {
     "data": {
      "text/plain": [
       "'Peter is 12 years old!'"
      ]
     },
     "execution_count": 50,
     "metadata": {},
     "output_type": "execute_result"
    }
   ],
   "source": [
    "'{name} is {age} years old!'.format(name = 'Peter', age = 12)"
   ]
  },
  {
   "cell_type": "markdown",
   "metadata": {},
   "source": [
    "# 課後練習與討論"
   ]
  },
  {
   "cell_type": "markdown",
   "metadata": {},
   "source": [
    "### EX 1: 試實現一個python程式，它能將使用者所輸入的一個文字字串之首尾兩個字元互換再輸出。"
   ]
  },
  {
   "cell_type": "markdown",
   "metadata": {},
   "source": [
    "例如: \n",
    "\n",
    "輸入: apple \n",
    "\n",
    "輸出: eppla \n",
    "\n",
    "輸入: 12345\n",
    "\n",
    "輸出: 52341"
   ]
  },
  {
   "cell_type": "markdown",
   "metadata": {},
   "source": [
    "### EX 2: 試實現一個python程式，它能產生下面的圖案。"
   ]
  },
  {
   "attachments": {
    "image.png": {
     "image/png": "[encoded data removed]"
    }
   },
   "cell_type": "markdown",
   "metadata": {},
   "source": [
    "![image.png](attachment:image.png)"
   ]
  },
  {
   "cell_type": "markdown",
   "metadata": {},
   "source": [
    "### EX 3: 試利用str.replace()這個內建函式的功能，移除輸入字串裡的空格。"
   ]
  },
  {
   "cell_type": "markdown",
   "metadata": {},
   "source": [
    "例如: \n",
    "\n",
    "輸入: embedded system, 輸出: embeddedsystem \n",
    "\n",
    "輸入: Python String Exercise, 輸出: PythonStringExercise"
   ]
  },
  {
   "cell_type": "markdown",
   "metadata": {},
   "source": [
    "### EX 4: 試利用str.rsplit()函式的功能，將輸入的字串以逗號為分割點，轉換成list。"
   ]
  },
  {
   "cell_type": "markdown",
   "metadata": {},
   "source": [
    "例如: \n",
    "\n",
    "輸入: The World of Peter, Jane, and Thomas Jefferson \n",
    "\n",
    "輸出: ['The World of Peter', ' Jane', ' and Thomas Jefferson']"
   ]
  }
 ],
 "metadata": {
  "kernelspec": {
   "display_name": "Python 3",
   "language": "python",
   "name": "python3"
  },
  "language_info": {
   "codemirror_mode": {
    "name": "ipython",
    "version": 3
   },
   "file_extension": ".py",
   "mimetype": "text/x-python",
   "name": "python",
   "nbconvert_exporter": "python",
   "pygments_lexer": "ipython3",
   "version": "3.7.6"
  }
 },
 "nbformat": 4,
 "nbformat_minor": 4
}
