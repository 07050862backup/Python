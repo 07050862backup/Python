{
 "cells": [
  {
   "cell_type": "markdown",
   "metadata": {},
   "source": [
    "## 函式"
   ]
  },
  {
   "cell_type": "markdown",
   "metadata": {},
   "source": [
    "對於功能可能一再出現或會重覆用到的程式碼，我們常常會將它切割開來成為一個獨立模組，稱為函式。函式是Python程式語言裡的基本建構單元，每一個函式都有一個專屬的名稱。我們可以在主程式中不同的地方呼叫(使用)相同的函式，不必重覆撰寫功能相同的程式碼。 函式是透過模組的概念來切割一個獨立的程式功能，Python語言就有許多我們經常用到的內建函式，例如print()、len()等。函式的目的通常是接收外部所傳進來的資料，在經過特定的處理後回傳得到的結果。"
   ]
  },
  {
   "cell_type": "markdown",
   "metadata": {},
   "source": [
    "### 函式的定義"
   ]
  },
  {
   "cell_type": "markdown",
   "metadata": {},
   "source": [
    "在Python語言中，是使用def來定義函式，例如："
   ]
  },
  {
   "cell_type": "code",
   "execution_count": 2,
   "metadata": {},
   "outputs": [],
   "source": [
    "def myFirstFunction():\n",
    "    print('Hello!')"
   ]
  },
  {
   "cell_type": "markdown",
   "metadata": {},
   "source": [
    "在上面的程式中，我們定義了一個可以列印出特定字串“Hello!”的函式。若我們想要呼叫它，可以在主程式中輸入這個函數的名稱："
   ]
  },
  {
   "cell_type": "code",
   "execution_count": 3,
   "metadata": {},
   "outputs": [
    {
     "name": "stdout",
     "output_type": "stream",
     "text": [
      "Hello!\n"
     ]
    }
   ],
   "source": [
    "def myFirstFunction():\n",
    "    print('Hello!')\n",
    "    \n",
    "myFirstFunction() #呼叫函式"
   ]
  },
  {
   "cell_type": "markdown",
   "metadata": {},
   "source": [
    "### 函數的參數傳遞"
   ]
  },
  {
   "cell_type": "markdown",
   "metadata": {},
   "source": [
    "參數傳遞是指將需要處理的資料傳入函式；它是主程式和函式之間溝通的橋樑。傳入函式的資料在經過運算或處理後，再把所得到的結果傳回主程式。例如下面的函式getMax(a, b)就有兩個傳遞參數a和b，這個函式的目的在於傳回兩個輸入參數之中的最大值："
   ]
  },
  {
   "cell_type": "code",
   "execution_count": 4,
   "metadata": {},
   "outputs": [],
   "source": [
    "def getMax(a, b):\n",
    "    if (a > b):\n",
    "        return a\n",
    "    else:\n",
    "        return b"
   ]
  },
  {
   "cell_type": "markdown",
   "metadata": {},
   "source": [
    "函式裡的return敘述可以讓函式傳回某個數值，如果將程式中的return改為print()的話，雖然程式能夠執行，但是print()只能夠列印，不能夠將結果回傳到主程式的。當我們將27和17兩個參數傳入函式getMax()時，其傳回結果如下："
   ]
  },
  {
   "cell_type": "code",
   "execution_count": 5,
   "metadata": {},
   "outputs": [
    {
     "data": {
      "text/plain": [
       "27"
      ]
     },
     "execution_count": 5,
     "metadata": {},
     "output_type": "execute_result"
    }
   ],
   "source": [
    "def getMax(a, b):\n",
    "    if (a > b):\n",
    "        return a\n",
    "    else:\n",
    "        return b\n",
    "    \n",
    "getMax(27,17)"
   ]
  },
  {
   "cell_type": "markdown",
   "metadata": {},
   "source": [
    "同樣的，一個執行兩個輸入數值相乘的函式可以定義如下："
   ]
  },
  {
   "cell_type": "code",
   "execution_count": 6,
   "metadata": {},
   "outputs": [
    {
     "name": "stdout",
     "output_type": "stream",
     "text": [
      "15\n"
     ]
    }
   ],
   "source": [
    "def multiply(a, b):\n",
    "    return a*b\n",
    "\n",
    "value = multiply(3, 5)\n",
    "print(value)"
   ]
  },
  {
   "cell_type": "markdown",
   "metadata": {},
   "source": [
    "我們也可以將函式改為預設參數值的型式；當函式沒有輸入參數時，便會使用函式的預設參數來處理："
   ]
  },
  {
   "cell_type": "code",
   "execution_count": 9,
   "metadata": {},
   "outputs": [
    {
     "name": "stdout",
     "output_type": "stream",
     "text": [
      "Hello! Peter!\n",
      "Hello! Sam!\n",
      "Hello! Morris!\n"
     ]
    }
   ],
   "source": [
    "def myNameFunction(fullname = 'Peter'):\n",
    "    print('Hello! ' + fullname + '!')\n",
    "    \n",
    "myNameFunction()\n",
    "myNameFunction('Sam')\n",
    "myNameFunction('Morris')"
   ]
  },
  {
   "cell_type": "markdown",
   "metadata": {},
   "source": [
    "最後，我們以sortAppendList()這個範例來介紹函式的參數傳遞。sortAppendList()的功能是將輸入的list進行排序，並且在list後面加入一個128的元素："
   ]
  },
  {
   "cell_type": "code",
   "execution_count": 10,
   "metadata": {},
   "outputs": [],
   "source": [
    "def sortAppendList( mylist ):\n",
    "    mylist = sorted(mylist) #將輸入的mylist進行排序\n",
    "    mylist.append(128); #將排序後的mylist加入128的數值\n",
    "    print(mylist)\n",
    "    return"
   ]
  },
  {
   "cell_type": "code",
   "execution_count": 11,
   "metadata": {},
   "outputs": [
    {
     "name": "stdout",
     "output_type": "stream",
     "text": [
      "[1, 2, 5, 5, 9, 11, 128]\n"
     ]
    }
   ],
   "source": [
    "mylist = [2, 5 ,1, 5, 9, 11];\n",
    "sortAppendList( mylist ); #呼叫sortAppendList函式"
   ]
  },
  {
   "cell_type": "markdown",
   "metadata": {},
   "source": [
    "### 全域變數和區域變數"
   ]
  },
  {
   "cell_type": "markdown",
   "metadata": {},
   "source": [
    "變數依其有效的作用範圍可以分成全域變數與函式內的區域變數兩種，建立在函式以外的變數便是全域變數，程式內所有的敘述都能夠存取全域變數的值；建立在函式內的變數則稱作區域變數，只有函式內的敘述能夠存取區域變數的值。"
   ]
  },
  {
   "cell_type": "markdown",
   "metadata": {},
   "source": [
    "下面程式中，我們在函式f1()裡建立了一個區域變數 x = 1，這個區域變數的有效範圍只限於在函式裡的敘述而已；所以，當我們在主程式執行print(x)的敘述時，會出現變數x未定義的錯誤訊息："
   ]
  },
  {
   "cell_type": "code",
   "execution_count": 12,
   "metadata": {},
   "outputs": [
    {
     "ename": "NameError",
     "evalue": "name 'x' is not defined",
     "output_type": "error",
     "traceback": [
      "\u001b[1;31m---------------------------------------------------------------------------\u001b[0m",
      "\u001b[1;31mNameError\u001b[0m                                 Traceback (most recent call last)",
      "\u001b[1;32m<ipython-input-12-a469903531b1>\u001b[0m in \u001b[0;36m<module>\u001b[1;34m\u001b[0m\n\u001b[0;32m      3\u001b[0m     \u001b[0mprint\u001b[0m\u001b[1;33m(\u001b[0m\u001b[0mx\u001b[0m\u001b[1;33m)\u001b[0m\u001b[1;33m\u001b[0m\u001b[1;33m\u001b[0m\u001b[0m\n\u001b[0;32m      4\u001b[0m \u001b[1;33m\u001b[0m\u001b[0m\n\u001b[1;32m----> 5\u001b[1;33m \u001b[0mprint\u001b[0m\u001b[1;33m(\u001b[0m\u001b[0mx\u001b[0m\u001b[1;33m)\u001b[0m\u001b[1;33m\u001b[0m\u001b[1;33m\u001b[0m\u001b[0m\n\u001b[0m",
      "\u001b[1;31mNameError\u001b[0m: name 'x' is not defined"
     ]
    }
   ],
   "source": [
    "def f1():\n",
    "    x = 1\n",
    "    print(x)\n",
    "    \n",
    "print(x)"
   ]
  },
  {
   "cell_type": "markdown",
   "metadata": {},
   "source": [
    "若是在定義函式f1()的敘述之外，我們加入全域變數x = 5的敘述，最後執行print(x)敘述的結果是列印出5。"
   ]
  },
  {
   "cell_type": "code",
   "execution_count": 13,
   "metadata": {},
   "outputs": [
    {
     "name": "stdout",
     "output_type": "stream",
     "text": [
      "5\n"
     ]
    }
   ],
   "source": [
    "def f1():\n",
    "    x = 1 #區域變數\n",
    "    print(x)\n",
    "    \n",
    "x = 5 #全域變數\n",
    "print(x)"
   ]
  },
  {
   "cell_type": "markdown",
   "metadata": {},
   "source": [
    "接下來，我們在同樣的程式裡，再加上一行呼叫f1()的敘述。那麼，當執行到呼叫f1()這個敘述時，f1()函式的功能會列印出區域變數x的值(x的值為1)；但主程式最後一行print(x)則是列印出全域變數的值(x的值為5)。"
   ]
  },
  {
   "cell_type": "code",
   "execution_count": 14,
   "metadata": {},
   "outputs": [
    {
     "name": "stdout",
     "output_type": "stream",
     "text": [
      "1\n",
      "5\n"
     ]
    }
   ],
   "source": [
    "def f1():\n",
    "    x = 1 #區域變數\n",
    "    print(x)\n",
    "    \n",
    "x = 5 #全域變數\n",
    "f1()\n",
    "print(x)"
   ]
  },
  {
   "cell_type": "markdown",
   "metadata": {},
   "source": [
    "如果想要修改外部全域變數的值，可以利用關鍵字global來宣告全域變數。在下面範例中，函式globalFunEx()中的變數x利用global宣告成全域變數，且給定其值為10。我們可以從執行結果中發現，即使在外部程式的敘述裡分別給定 x = 5, y = 15，但最後所列印出來的結果顯示x的值一直維持為10："
   ]
  },
  {
   "cell_type": "code",
   "execution_count": 15,
   "metadata": {},
   "outputs": [
    {
     "name": "stdout",
     "output_type": "stream",
     "text": [
      "x = 10  y = 17\n",
      "x = 10  y = 15\n"
     ]
    }
   ],
   "source": [
    "def globalFunEx():\n",
    "    global x\n",
    "    x = 10\n",
    "    y = 17\n",
    "    print('x =', x, ' y =',y)\n",
    "    \n",
    "x,y = 5,15\n",
    "globalFunEx()\n",
    "print('x =', x, ' y =', y)"
   ]
  },
  {
   "cell_type": "markdown",
   "metadata": {},
   "source": [
    "### 遞迴"
   ]
  },
  {
   "cell_type": "markdown",
   "metadata": {},
   "source": [
    "之前所介紹的內容，都是在主程式中呼叫一個函式，或是在一個函式中呼叫其他函式；接下來，我們要介紹在函式中自我呼叫(self-calling)的作法，這種使用函式的形式稱為遞迴。"
   ]
  },
  {
   "cell_type": "markdown",
   "metadata": {},
   "source": [
    "遞迴的本質是找出問題的規律性，並利用將問題分解為重複性的相同子問題的方式來縮減問題的範圍；如果要以程式語言來處理遞迴，可以透過在函式中呼叫自身函式的作法來實現。值得注意的是，在執行遞迴的過程中必須有一個明確的遞迴結束條件，以避免函式無限呼叫。"
   ]
  },
  {
   "cell_type": "markdown",
   "metadata": {},
   "source": [
    "例如在數學上階乘的計算為： \n",
    "\n",
    "n! = 1 × 2 × 3 × … × n \n",
    "\n",
    "我們也可以將上式改用遞迴方式來處理：\n",
    "\n",
    "n! = (n-1)! × n, 其中，n >0，且 0! = 1 \n",
    "\n",
    "在Python中以遞迴來實現階乘的計算："
   ]
  },
  {
   "cell_type": "code",
   "execution_count": 16,
   "metadata": {},
   "outputs": [
    {
     "data": {
      "text/plain": [
       "120"
      ]
     },
     "execution_count": 16,
     "metadata": {},
     "output_type": "execute_result"
    }
   ],
   "source": [
    "def factorial(n):\n",
    "    if n == 1:\n",
    "        return 1\n",
    "    else:\n",
    "        return factorial(n-1)*n\n",
    "    \n",
    "factorial(5)"
   ]
  },
  {
   "cell_type": "markdown",
   "metadata": {},
   "source": [
    "## Lambda函式"
   ]
  },
  {
   "cell_type": "markdown",
   "metadata": {},
   "source": [
    "Python提供了一個簡易的函式定義，稱為λ函式或是匿名函式，它能讓我們實作出只有一個簡單運算式的函式。一個Lambda函式的寫法如下："
   ]
  },
  {
   "attachments": {
    "image.png": {
     "image/png": "[encoded data removed]"
    }
   },
   "cell_type": "markdown",
   "metadata": {},
   "source": [
    "![image.png](attachment:image.png)"
   ]
  },
  {
   "cell_type": "markdown",
   "metadata": {},
   "source": [
    "上述的Lambda函式其實就等於下面的函式定義："
   ]
  },
  {
   "attachments": {
    "image.png": {
     "image/png": "[encoded data removed]"
    }
   },
   "cell_type": "markdown",
   "metadata": {},
   "source": [
    "![image.png](attachment:image.png)"
   ]
  },
  {
   "cell_type": "markdown",
   "metadata": {},
   "source": [
    "Lambda函式讓程式碼的撰寫更加簡潔，也讓函式的定義方式更為直觀和容易理解。例如，一個執行兩個輸入數值相乘的函式可以利用lambda函式定義如下："
   ]
  },
  {
   "cell_type": "code",
   "execution_count": 17,
   "metadata": {},
   "outputs": [
    {
     "name": "stdout",
     "output_type": "stream",
     "text": [
      "15\n"
     ]
    }
   ],
   "source": [
    "multiply = lambda a, b: a*b\n",
    "\n",
    "print(multiply(3, 5))"
   ]
  },
  {
   "cell_type": "markdown",
   "metadata": {},
   "source": [
    "而一個傳回兩個輸入參數之中的最大值的lambda函式可以定義如下："
   ]
  },
  {
   "cell_type": "code",
   "execution_count": 18,
   "metadata": {},
   "outputs": [
    {
     "name": "stdout",
     "output_type": "stream",
     "text": [
      "27\n"
     ]
    }
   ],
   "source": [
    "getMax = lambda a, b: a if a > b else b\n",
    "\n",
    "print(getMax(17, 27))"
   ]
  }
 ],
 "metadata": {
  "kernelspec": {
   "display_name": "Python 3",
   "language": "python",
   "name": "python3"
  },
  "language_info": {
   "codemirror_mode": {
    "name": "ipython",
    "version": 3
   },
   "file_extension": ".py",
   "mimetype": "text/x-python",
   "name": "python",
   "nbconvert_exporter": "python",
   "pygments_lexer": "ipython3",
   "version": "3.7.6"
  }
 },
 "nbformat": 4,
 "nbformat_minor": 4
}
