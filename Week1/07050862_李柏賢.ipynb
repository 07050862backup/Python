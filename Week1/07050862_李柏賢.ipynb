{
 "cells": [
  {
   "cell_type": "markdown",
   "metadata": {
    "colab_type": "text",
    "id": "LJt6Gx9BGs0x"
   },
   "source": [
    "### 練習一、輸入一個字元並判斷大寫、小寫、阿拉伯數字、特殊字元。"
   ]
  },
  {
   "cell_type": "code",
   "execution_count": 43,
   "metadata": {
    "colab": {
     "base_uri": "https://localhost:8080/",
     "height": 50
    },
    "colab_type": "code",
    "executionInfo": {
     "elapsed": 6881,
     "status": "ok",
     "timestamp": 1601026583136,
     "user": {
      "displayName": "07050862 07050862",
      "photoUrl": "https://lh3.googleusercontent.com/a-/AOh14Gi6M2okCaeSn_Qa16YEiLTpjRJiowDn92NEJg5X=s64",
      "userId": "01864309307539474000"
     },
     "user_tz": -480
    },
    "id": "6oV2iRGIGs0y",
    "outputId": "34b723b4-6829-43b5-98f7-cbdd555ea514"
   },
   "outputs": [
    {
     "name": "stdout",
     "output_type": "stream",
     "text": [
      "輸入一個字元:c\n",
      "小寫\n"
     ]
    }
   ],
   "source": [
    "c = input(\"輸入一個字元:\")\n",
    "\n",
    "if 'a'<=c and c<='z': \n",
    "    print(\"小寫\")\n",
    "elif 'A'<=c and c<='Z':\n",
    "    print(\"大寫\") \n",
    "elif '0'<=c and c<='9': \n",
    "    print(\"阿拉伯數字\")\n",
    "else: prnt(\"特殊字元\")"
   ]
  },
  {
   "cell_type": "markdown",
   "metadata": {
    "colab_type": "text",
    "id": "Hs5mmQh8Gs02"
   },
   "source": [
    "### 練習二、寫一支程式來測試某一年是否閏年。<上網查閏年如何判斷>"
   ]
  },
  {
   "cell_type": "code",
   "execution_count": 44,
   "metadata": {
    "colab": {
     "base_uri": "https://localhost:8080/",
     "height": 50
    },
    "colab_type": "code",
    "executionInfo": {
     "elapsed": 13733,
     "status": "ok",
     "timestamp": 1601026590003,
     "user": {
      "displayName": "07050862 07050862",
      "photoUrl": "https://lh3.googleusercontent.com/a-/AOh14Gi6M2okCaeSn_Qa16YEiLTpjRJiowDn92NEJg5X=s64",
      "userId": "01864309307539474000"
     },
     "user_tz": -480
    },
    "id": "q4OdkM5eGs03",
    "outputId": "a84bfc24-b23a-4097-acc2-0670c4408c89"
   },
   "outputs": [
    {
     "name": "stdout",
     "output_type": "stream",
     "text": [
      "請輸入一個年份:652\n",
      "652年是閏年\n"
     ]
    }
   ],
   "source": [
    "year = int(input(\"請輸入一個年份:\"))\n",
    "if (year % 4) == 0 and (year % 100) !=0 or (year % 400) == 0:\n",
    "    print(\"%s年是閏年\" % year)\n",
    "else:\n",
    "    print(\"%s年不是閏年\" % year)"
   ]
  },
  {
   "cell_type": "markdown",
   "metadata": {
    "colab_type": "text",
    "id": "zoQhkV10Gs05"
   },
   "source": [
    "### 練習三、設計人體體重健康判斷程式。<上網查BMI界定>"
   ]
  },
  {
   "cell_type": "code",
   "execution_count": 45,
   "metadata": {
    "colab": {
     "base_uri": "https://localhost:8080/",
     "height": 67
    },
    "colab_type": "code",
    "executionInfo": {
     "elapsed": 19890,
     "status": "ok",
     "timestamp": 1601026596175,
     "user": {
      "displayName": "07050862 07050862",
      "photoUrl": "https://lh3.googleusercontent.com/a-/AOh14Gi6M2okCaeSn_Qa16YEiLTpjRJiowDn92NEJg5X=s64",
      "userId": "01864309307539474000"
     },
     "user_tz": -480
    },
    "id": "8D9WRUiPGs06",
    "outputId": "ac4bae9c-76e2-4522-8556-69d7f82809de"
   },
   "outputs": [
    {
     "name": "stdout",
     "output_type": "stream",
     "text": [
      "請輸入身高180\n",
      "請輸入體重65\n",
      "BMI為20.06，體重正常\n"
     ]
    }
   ],
   "source": [
    "height = int(input(\"請輸入身高\"))\n",
    "\n",
    "weight = int(input(\"請輸入體重\"))\n",
    "\n",
    "BMI = weight/((height/100)**2)\n",
    "\n",
    "if  BMI < 18.5:\n",
    "    print(\"BMI為%.2f，太輕了\"  %BMI)\n",
    "elif    18.5<=BMI and BMI<24:\n",
    "    print(\"BMI為%.2f，體重正常\"  %BMI)\n",
    "elif    24<=BMI and BMI<27:\n",
    "    print(\"BMI為%.2f，過重\"  %BMI)\n",
    "elif    27<=BMI and BMI<30:\n",
    "    print(\"BMI為%.2f，輕度肥胖\" % BMI)\n",
    "elif    30<=BMI and BMI<35:\n",
    "    print(\"BMI為%.2f，中度肥胖\"  %BMI)\n",
    "else:\n",
    "    print(\"BMI為%.2f，重度肥胖\"  %BMI)\n",
    "    "
   ]
  },
  {
   "cell_type": "markdown",
   "metadata": {
    "colab_type": "text",
    "id": "Uv-T8dJ-Gs08"
   },
   "source": [
    "### 練習四、寫一支程式來判斷質數"
   ]
  },
  {
   "cell_type": "code",
   "execution_count": 46,
   "metadata": {
    "colab": {
     "base_uri": "https://localhost:8080/",
     "height": 50
    },
    "colab_type": "code",
    "executionInfo": {
     "elapsed": 26922,
     "status": "ok",
     "timestamp": 1601026603219,
     "user": {
      "displayName": "07050862 07050862",
      "photoUrl": "https://lh3.googleusercontent.com/a-/AOh14Gi6M2okCaeSn_Qa16YEiLTpjRJiowDn92NEJg5X=s64",
      "userId": "01864309307539474000"
     },
     "user_tz": -480
    },
    "id": "1c025we5Gs09",
    "outputId": "697a7ba2-a024-4016-8c47-d0adad14c0db"
   },
   "outputs": [
    {
     "name": "stdout",
     "output_type": "stream",
     "text": [
      "請輸入數字:11\n",
      "11 是質數\n"
     ]
    }
   ],
   "source": [
    "num = int(input(\"請輸入數字:\"))\n",
    "i=2\n",
    "\n",
    "while i < num and num % i != 0:\n",
    "  i += 1\n",
    "    \n",
    "if  i == num:\n",
    "    print(\"%d 是質數\" %num)\n",
    "else:\n",
    "    print(\"%d 不是質數\" %num)"
   ]
  },
  {
   "cell_type": "markdown",
   "metadata": {
    "colab_type": "text",
    "id": "8Rf-eHN_Gs0_"
   },
   "source": [
    "### 練習五、寫一支終極密碼遊戲的程式"
   ]
  },
  {
   "cell_type": "code",
   "execution_count": 47,
   "metadata": {
    "colab": {
     "base_uri": "https://localhost:8080/",
     "height": 118
    },
    "colab_type": "code",
    "executionInfo": {
     "elapsed": 44439,
     "status": "ok",
     "timestamp": 1601026620748,
     "user": {
      "displayName": "07050862 07050862",
      "photoUrl": "https://lh3.googleusercontent.com/a-/AOh14Gi6M2okCaeSn_Qa16YEiLTpjRJiowDn92NEJg5X=s64",
      "userId": "01864309307539474000"
     },
     "user_tz": -480
    },
    "id": "y3GnyHsecTsk",
    "outputId": "ab89c4ae-caea-421b-f69c-0f8b4717f7b0"
   },
   "outputs": [
    {
     "name": "stdout",
     "output_type": "stream",
     "text": [
      "請猜一個數字: 65\n",
      "數字介於 0 至 65  間\n",
      "請猜一個數字: 46\n",
      "數字介於 46 至 65  間\n",
      "請猜一個數字: 55\n",
      "答對了!\n"
     ]
    }
   ],
   "source": [
    "import random\n",
    "ans = random.randint(0,99)\n",
    "min=0\n",
    "max=100\n",
    "while 1:\n",
    "    num = int(input(\"請猜一個數字: \"))\n",
    "    if num == ans:\n",
    "        print(\"答對了!\")\n",
    "        break\n",
    "    elif num > ans:\n",
    "      max = num\n",
    "      s = '數字介於 %d 至 %d  間' % (min, max)\n",
    "      print(s)\n",
    "      \n",
    "    elif num < ans:\n",
    "      min = num\n",
    "      s = '數字介於 %d 至 %d  間' % (min, max)\n",
    "      print(s)"
   ]
  },
  {
   "cell_type": "markdown",
   "metadata": {
    "colab_type": "text",
    "id": "M9QdRHxhGs1A"
   },
   "source": [
    "### 練習六、打印如下所示的三角形圖案。"
   ]
  },
  {
   "cell_type": "markdown",
   "metadata": {
    "colab_type": "text",
    "id": "fShOK-vGhFhr"
   },
   "source": [
    "![image.png](attachment:image.png)"
   ]
  },
  {
   "cell_type": "code",
   "execution_count": 6,
   "metadata": {
    "colab": {
     "base_uri": "https://localhost:8080/",
     "height": 302
    },
    "colab_type": "code",
    "executionInfo": {
     "elapsed": 44428,
     "status": "ok",
     "timestamp": 1601026620749,
     "user": {
      "displayName": "07050862 07050862",
      "photoUrl": "https://lh3.googleusercontent.com/a-/AOh14Gi6M2okCaeSn_Qa16YEiLTpjRJiowDn92NEJg5X=s64",
      "userId": "01864309307539474000"
     },
     "user_tz": -480
    },
    "id": "ked2JrSdhFhs",
    "outputId": "2789b5af-0df9-44f5-b71c-4ccd18a5d769"
   },
   "outputs": [
    {
     "name": "stdout",
     "output_type": "stream",
     "text": [
      "請輸入行數: 5\n",
      "*\n",
      "**\n",
      "***\n",
      "****\n",
      "*****\n",
      "    *\n",
      "   **\n",
      "  ***\n",
      " ****\n",
      "*****\n",
      "    *\n",
      "   ***\n",
      "  *****\n",
      " *******\n",
      "*********\n"
     ]
    }
   ],
   "source": [
    "row  =  int ( input ( '請輸入行數: ' ))\n",
    "for  i  in  range ( row ):\n",
    "     for  _  in  range ( i  +  1 ):\n",
    "         print ( '*' , end = '' )\n",
    "     print ()\n",
    "\n",
    "\n",
    "for  i  in  range ( row ):\n",
    "     for  j  in  range ( row ):\n",
    "         if  j  <  row  -  i  -  1 :\n",
    "             print ( ' ' , end = '' )\n",
    "         else :\n",
    "             print ( '*' , end = '' )\n",
    "     print ( )\n",
    "\n",
    "for  i  in  range ( row ):\n",
    "     for  _  in  range ( row  -  i  -  1 ):\n",
    "         print ( ' ' , end = '' )\n",
    "     for  _  in  range ( 2  *  i  +  1 ):\n",
    "         print ( '*' , end = '' )\n",
    "     print ()"
   ]
  }
 ],
 "metadata": {
  "colab": {
   "collapsed_sections": [],
   "name": "07050862.ipynb",
   "provenance": []
  },
  "kernelspec": {
   "display_name": "Python 3",
   "language": "python",
   "name": "python3"
  },
  "language_info": {
   "codemirror_mode": {
    "name": "ipython",
    "version": 3
   },
   "file_extension": ".py",
   "mimetype": "text/x-python",
   "name": "python",
   "nbconvert_exporter": "python",
   "pygments_lexer": "ipython3",
   "version": "3.8.3"
  }
 },
 "nbformat": 4,
 "nbformat_minor": 1
}
