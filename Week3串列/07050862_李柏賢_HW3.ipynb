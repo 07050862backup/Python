{
 "cells": [
  {
   "cell_type": "markdown",
   "metadata": {
    "colab_type": "text",
    "id": "LJt6Gx9BGs0x"
   },
   "source": [
    "### 練習一、 試寫一個Python程式，它能移除輸入之串列中所有的偶數數值。"
   ]
  },
  {
   "cell_type": "code",
   "execution_count": 25,
   "metadata": {},
   "outputs": [
    {
     "name": "stdout",
     "output_type": "stream",
     "text": [
      "1,2,3,4,5\n",
      "[1, 3, 5]\n"
     ]
    }
   ],
   "source": [
    " \n",
    "num = list(map(int,input().split(',')))\n",
    "\n",
    "doubledEvenNum = []\n",
    "\n",
    "for n in num:\n",
    "    if n % 2 == 1:\n",
    "        doubledEvenNum.append(n)\n",
    "        \n",
    "print(doubledEvenNum)"
   ]
  },
  {
   "cell_type": "markdown",
   "metadata": {},
   "source": [
    "### 練習二、 若有一串列a = [[1, 2, 3, 4], [5, 6], [7, 8, 9]]，試計算此串列裡所有元素的總和。"
   ]
  },
  {
   "cell_type": "code",
   "execution_count": 6,
   "metadata": {},
   "outputs": [
    {
     "data": {
      "text/plain": [
       "45"
      ]
     },
     "execution_count": 6,
     "metadata": {},
     "output_type": "execute_result"
    }
   ],
   "source": [
    "a = [[1, 2, 3, 4], [5, 6], [7, 8, 9]]\n",
    "\n",
    "sum(sum(a[i]) for i in range (len(a)))"
   ]
  },
  {
   "cell_type": "markdown",
   "metadata": {
    "colab_type": "text",
    "id": "Hs5mmQh8Gs02"
   },
   "source": [
    "### 練習三、下面為一個由實數相加(forwardAddGate(x, y))以及實數相乘(forwardMultGate(x, y))兩個函式運算閘所構成的電路(forwardCircuit(x,y,z))，該電路有三個外部輸入值x, y, z，輸出為(x + y) * z。試以函式來實現它:"
   ]
  },
  {
   "attachments": {
    "%E4%B8%8B%E8%BC%89.png": {
     "image/png": "[encoded data removed]"
    }
   },
   "cell_type": "markdown",
   "metadata": {},
   "source": [
    "![%E4%B8%8B%E8%BC%89.png](attachment:%E4%B8%8B%E8%BC%89.png)"
   ]
  },
  {
   "cell_type": "code",
   "execution_count": 2,
   "metadata": {},
   "outputs": [
    {
     "name": "stdout",
     "output_type": "stream",
     "text": [
      "輸入x,y,z 以','分開: 3,4,5\n",
      "35\n"
     ]
    }
   ],
   "source": [
    "\n",
    "def forwardAddGate(x, y):\n",
    "    return x+y\n",
    "\n",
    "def forwardMultGate(x, y):\n",
    "    return x*y\n",
    "\n",
    "def forwardCircuit(x, y, z):\n",
    "    return (x+y)*z\n",
    "\n",
    "num = list(map(int,input(\"輸入x,y,z 以','分開: \").split(',')))\n",
    "\n",
    "ans1 = forwardAddGate(num[0], num[1])\n",
    "ans2 = forwardMultGate(ans1, num[2])\n",
    "print(ans2)"
   ]
  },
  {
   "cell_type": "markdown",
   "metadata": {
    "colab_type": "text",
    "id": "zoQhkV10Gs05"
   },
   "source": [
    "### 練習四、承上題，請改以Lambda函式來實現forwardAddGate(x, y))以及forwardMultGate(x, y)兩個函式運算閘:"
   ]
  },
  {
   "cell_type": "code",
   "execution_count": 3,
   "metadata": {},
   "outputs": [
    {
     "name": "stdout",
     "output_type": "stream",
     "text": [
      "輸入x,y,z 以','分開: 5,6,7\n",
      "77\n"
     ]
    }
   ],
   "source": [
    "forwardAddGate = lambda a, b: a+b\n",
    "forwardMultGate = lambda a, b: a*b\n",
    "\n",
    "\n",
    "num = list(map(int,input(\"輸入x,y,z 以','分開: \").split(',')))\n",
    "\n",
    "ans1 = forwardAddGate(num[0], num[1])\n",
    "ans2 = forwardMultGate(ans1, num[2])\n",
    "print(ans2)"
   ]
  },
  {
   "cell_type": "markdown",
   "metadata": {
    "colab_type": "text",
    "id": "Uv-T8dJ-Gs08"
   },
   "source": [
    "### 練習五、試實作一個函式max_mul()，當我們給定一個內容皆為整數的串列l時，函式的回傳值是串列中連續兩個相鄰元素乘積的最大值。"
   ]
  },
  {
   "cell_type": "code",
   "execution_count": 6,
   "metadata": {},
   "outputs": [
    {
     "name": "stdout",
     "output_type": "stream",
     "text": [
      "2,5,10,100\n",
      "1000\n"
     ]
    }
   ],
   "source": [
    "def max_mul(num):\n",
    "    max_num = num[0]*num[1]\n",
    "    for i in range(len(num)-1):\n",
    "        if max_num < num[i]*num[i+1]:\n",
    "            max_num = num[i]*num[i+1]\n",
    "    return max_num\n",
    "\n",
    "num = list(map(int,input().split(',')))\n",
    "\n",
    "ans = max_mul(num)\n",
    "\n",
    "print(ans)"
   ]
  },
  {
   "cell_type": "markdown",
   "metadata": {},
   "source": [
    "### 練習六、試實作一個函式longest_str()，當我們給定一個內容皆為字串(str)的串列l時，函式的回傳值是串列中長度最長的字串。若長度相同，則回傳index較小的字串。"
   ]
  },
  {
   "cell_type": "code",
   "execution_count": 7,
   "metadata": {},
   "outputs": [
    {
     "name": "stdout",
     "output_type": "stream",
     "text": [
      "ABC,1234567890E,ABCD,AA,ABC,123456789AB,A,ABC,B\n",
      "[3, 11, 4, 2, 3, 11, 1, 3, 1]\n",
      "有重複，回傳index較小的字串\n",
      "1234567890E\n"
     ]
    }
   ],
   "source": [
    "def longest_str(string_a):\n",
    "    for i in range(len(string_a)):\n",
    "        new.append(len(list(string_a[i])))\n",
    "    print(new)\n",
    "    max_num =new[0]\n",
    "    for i in range(len(new)-1):\n",
    "        if max_num < new[i]:\n",
    "            max_num = new[i]\n",
    "    times_max = new.count(max_num)\n",
    "    if times_max>1:\n",
    "        print(\"有重複，回傳index較小的字串\")\n",
    "        return string_a[new.index(max_num)]\n",
    "    else:\n",
    "        print(\"沒有重複，回傳串列中長度最長的字串\")\n",
    "        return string_a[new.index(max_num)]\n",
    "    \n",
    "        \n",
    "new=[]\n",
    "string_a = list(map(str,input().split(',')))\n",
    "new = longest_str(string_a)\n",
    "print(new)"
   ]
  }
 ],
 "metadata": {
  "colab": {
   "collapsed_sections": [],
   "name": "07050862.ipynb",
   "provenance": []
  },
  "kernelspec": {
   "display_name": "Python 3",
   "language": "python",
   "name": "python3"
  },
  "language_info": {
   "codemirror_mode": {
    "name": "ipython",
    "version": 3
   },
   "file_extension": ".py",
   "mimetype": "text/x-python",
   "name": "python",
   "nbconvert_exporter": "python",
   "pygments_lexer": "ipython3",
   "version": "3.7.4"
  }
 },
 "nbformat": 4,
 "nbformat_minor": 1
}
